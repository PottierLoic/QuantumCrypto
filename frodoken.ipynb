{
 "cells": [
  {
   "cell_type": "markdown",
   "metadata": {},
   "source": [
    "# Post-Quantum Cryptography - FrodoKEM Key Exchange using SHA3-256\n",
    "\n",
    "In this notebook, we will demonstrate an exchange of keys using a simplified version of **FrodoKEM**, a post-quantum key encapsulation mechanism, with the hash function SHA3-256. \n",
    "\n",
    "FrodoKEM is designed to be secure against attacks from quantum computers, making it a crucial candidate for post-quantum cryptography. While FrodoKEM involves more complex mathematical constructs (such as lattices), this simplified version illustrates the core concept of encapsulation and decapsulation.\n",
    "\n",
    "The process involves the following steps:\n",
    "\n",
    "1. **Key Generation**: Bob generates a public/private key pair.\n",
    "2. **Key Encapsulation (Alice)**: Alice generates a shared key and encrypts it using Bob's public key.\n",
    "3. **Key Decapsulation (Bob)**: Bob decapsulates the key using his private key and verifies the correctness of the shared key.\n"
   ]
  },
  {
   "cell_type": "markdown",
   "metadata": {},
   "source": [
    "### Step 1: Key Generation (Bob)\n",
    "In FrodoKEM, Bob generates a secret key and a public key. Here, we are using the hash function SHA3-256 to represent this process."
   ]
  },
  {
   "cell_type": "code",
   "execution_count": 4,
   "metadata": {},
   "outputs": [
    {
     "name": "stdout",
     "output_type": "stream",
     "text": [
      "Bob's Secret Key: 1d4efe54de331f2fce7f98937a2c53fe377e4e180822e45d90807b0e45191002\n",
      "Bob's Public Key: 926183d69ad10a4ba07ce591d75918484f2261eba7cbcf2f72d149eccafcd906\n"
     ]
    }
   ],
   "source": [
    "import hashlib\n",
    "import os\n",
    "\n",
    "# Bob generates a private key (secret key)\n",
    "secret_key_bob = os.urandom(32)\n",
    "\n",
    "# Bob computes his public key by hashing the secret key\n",
    "public_key_bob = hashlib.sha3_256(secret_key_bob).digest()\n",
    "\n",
    "# Display Bob's secret and public keys\n",
    "print(\"Bob's Secret Key:\", secret_key_bob.hex())\n",
    "print(\"Bob's Public Key:\", public_key_bob.hex())"
   ]
  },
  {
   "cell_type": "markdown",
   "metadata": {},
   "source": [
    "### Step 2: Key Encapsulation (Alice)\n",
    "Alice encapsulates the shared key using Bob's public key. In FrodoKEM, this would involve using lattice-based operations, but here, we simplify the process by using SHA3-256."
   ]
  },
  {
   "cell_type": "code",
   "execution_count": 5,
   "metadata": {},
   "outputs": [
    {
     "name": "stdout",
     "output_type": "stream",
     "text": [
      "Shared Key (Alice): 6a060dc6cf63ce4f9f6a6d25607cbc990b8c8fd71424fba088d6334703b5d48c\n",
      "Ciphertext: 10bc4ec139c7be2fb0e14d1fe337f1bbd5e6071861337e513ca749e93ce6165e\n"
     ]
    }
   ],
   "source": [
    "# Alice computes the shared key by hashing Bob's public key\n",
    "shared_key_alice = hashlib.sha3_256(public_key_bob).digest()\n",
    "\n",
    "# Alice creates the ciphertext by hashing the combination of Bob's public key and the shared key\n",
    "ciphertext = hashlib.sha3_256(public_key_bob + shared_key_alice).digest()\n",
    "\n",
    "# Display Alice's shared key and ciphertext\n",
    "print(\"Shared Key (Alice):\", shared_key_alice.hex())\n",
    "print(\"Ciphertext:\", ciphertext.hex())"
   ]
  },
  {
   "cell_type": "markdown",
   "metadata": {},
   "source": [
    "### Step 3: Key Decapsulation (Bob)\n",
    "Bob decapsulates the shared key using his private key. In FrodoKEM, Bob would recover the shared key by performing specific mathematical operations on the ciphertext and his private key, but here, we simulate that with hash functions.\n"
   ]
  },
  {
   "cell_type": "code",
   "execution_count": 6,
   "metadata": {},
   "outputs": [
    {
     "name": "stdout",
     "output_type": "stream",
     "text": [
      "Shared Key (Bob): 6a060dc6cf63ce4f9f6a6d25607cbc990b8c8fd71424fba088d6334703b5d48c\n",
      "Key exchange successful!\n"
     ]
    }
   ],
   "source": [
    "# Bob recomputes his public key from the private key\n",
    "derived_public_key_bob = hashlib.sha3_256(secret_key_bob).digest()\n",
    "\n",
    "# Bob derives the shared key by hashing his public key\n",
    "derived_shared_key_bob = hashlib.sha3_256(derived_public_key_bob).digest()\n",
    "\n",
    "# Bob verifies the ciphertext matches the expected value\n",
    "if hashlib.sha3_256(derived_public_key_bob + derived_shared_key_bob).digest() == ciphertext:\n",
    "  print(\"Shared Key (Bob):\", derived_shared_key_bob.hex())\n",
    "  print(\"Key exchange successful!\")\n",
    "else:\n",
    "  raise ValueError(\"Decapsulation failed: invalid key.\")"
   ]
  },
  {
   "cell_type": "markdown",
   "metadata": {},
   "source": [
    "### Conclusion\n",
    "In this notebook, we implemented a simplified version of the **FrodoKEM** key exchange protocol using the SHA3-256 hash function. \n",
    "\n",
    "While this implementation focuses on the conceptual flow, the real FrodoKEM involves complex operations over lattices, designed to resist quantum attacks. Both Alice and Bob successfully derived the same shared key, and Bob was able to verify the integrity of the ciphertext, completing the key exchange process."
   ]
  }
 ],
 "metadata": {
  "kernelspec": {
   "display_name": "Python 3",
   "language": "python",
   "name": "python3"
  },
  "language_info": {
   "codemirror_mode": {
    "name": "ipython",
    "version": 3
   },
   "file_extension": ".py",
   "mimetype": "text/x-python",
   "name": "python",
   "nbconvert_exporter": "python",
   "pygments_lexer": "ipython3",
   "version": "3.12.6"
  }
 },
 "nbformat": 4,
 "nbformat_minor": 2
}
